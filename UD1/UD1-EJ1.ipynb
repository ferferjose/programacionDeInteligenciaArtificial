{
 "cells": [
  {
   "cell_type": "code",
   "execution_count": 1,
   "id": "dac737c7-28bb-4d82-b20a-c9245f040aca",
   "metadata": {},
   "outputs": [
    {
     "name": "stdout",
     "output_type": "stream",
     "text": [
      "[2, 3, 5, 10, 20]\n",
      "[2, 3, 5, 10, 20]\n"
     ]
    }
   ],
   "source": [
    "#Crea una función que reciba una lista de enteros por parámetro y devuelva otra\n",
    "#lista, de acuerdo a las siguientes acciones:\n",
    "#1. Eliminar los números negaƟvos de la lista.\n",
    "#2. Eliminar los valores que están repeƟdos, quedándonos con uno de ellos.\n",
    "#3. Ordenar los números resultantes de menor a mayor. \n",
    "\n",
    "#Esta es la forma en que yo lo he planteado pero debajo está la forma de la que me he informado que es más eficiente\n",
    "def deleteNegativeNumbers(numberList):\n",
    "    positiveNumbers = []\n",
    "    for number in numberList:\n",
    "        if number>0:\n",
    "            positiveNumbers.append(number)\n",
    "\n",
    "    return positiveNumbers\n",
    "\n",
    "def deleteRepeatNumbers(numberList):\n",
    "    duplicateNumberList = numberList\n",
    "    duplicates = []\n",
    "    for number in numberList:\n",
    "        count = 0\n",
    "        for duplicateNumber in duplicateNumberList:\n",
    "            if number == duplicateNumber:\n",
    "                count+=1\n",
    "        if count > 1:\n",
    "            duplicates.append(number)\n",
    "    for duplicate in duplicates:\n",
    "        numberList.remove(duplicate)\n",
    "\n",
    "    return numberList\n",
    "\n",
    "def orderNumbers(numberList):\n",
    "    numberList.sort()\n",
    "    return numberList\n",
    "        \n",
    "\n",
    "def makeNumbersFilter(numbers):\n",
    "    filterNumbers = []\n",
    "    filterNumbers = deleteNegativeNumbers(numbers)\n",
    "    filterNumbers = deleteRepeatNumbers(filterNumbers)\n",
    "    filterNumbers = orderNumbers(filterNumbers)\n",
    "    return filterNumbers\n",
    "    \n",
    "numbers = [5, 10, -1, 2, 0, -10, -5, 20, 3]\n",
    "print (makeNumbersFilter(numbers))\n",
    "\n",
    "#Forma después de informarme como sería lo más rápido y eficiente.\n",
    "def makeNumbersFilter2(numbers):\n",
    "    return sorted({n for n in numbers if n > 0})\n",
    "\n",
    "print (makeNumbersFilter2(numbers))\n",
    "\n",
    "\n",
    "    "
   ]
  }
 ],
 "metadata": {
  "kernelspec": {
   "display_name": "Python [conda env:base] *",
   "language": "python",
   "name": "conda-base-py"
  },
  "language_info": {
   "codemirror_mode": {
    "name": "ipython",
    "version": 3
   },
   "file_extension": ".py",
   "mimetype": "text/x-python",
   "name": "python",
   "nbconvert_exporter": "python",
   "pygments_lexer": "ipython3",
   "version": "3.13.5"
  }
 },
 "nbformat": 4,
 "nbformat_minor": 5
}

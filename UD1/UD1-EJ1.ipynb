{
 "cells": [
  {
   "cell_type": "code",
   "execution_count": 3,
   "id": "dac737c7-28bb-4d82-b20a-c9245f040aca",
   "metadata": {},
   "outputs": [
    {
     "name": "stdout",
     "output_type": "stream",
     "text": [
      "[2, 3, 5, 10, 20]\n"
     ]
    }
   ],
   "source": [
    "def makeNumbersFilter2(numbers):\n",
    "    return sorted({n for n in numbers if n > 0})\n",
    "\n",
    "numbers = [5, 10, -1, 2, 0, -10, -5, 20, 3]\n",
    "print (makeNumbersFilter2(numbers))\n",
    "\n",
    "\n",
    "    "
   ]
  },
  {
   "cell_type": "code",
   "execution_count": null,
   "id": "b5514b14-57e5-48be-9206-2d9bd5db5533",
   "metadata": {},
   "outputs": [],
   "source": []
  }
 ],
 "metadata": {
  "kernelspec": {
   "display_name": "Python [conda env:base] *",
   "language": "python",
   "name": "conda-base-py"
  },
  "language_info": {
   "codemirror_mode": {
    "name": "ipython",
    "version": 3
   },
   "file_extension": ".py",
   "mimetype": "text/x-python",
   "name": "python",
   "nbconvert_exporter": "python",
   "pygments_lexer": "ipython3",
   "version": "3.13.5"
  }
 },
 "nbformat": 4,
 "nbformat_minor": 5
}

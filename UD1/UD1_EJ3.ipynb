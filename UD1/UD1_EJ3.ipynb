{
 "cells": [
  {
   "cell_type": "code",
   "execution_count": 8,
   "id": "db3fb978-7eed-409b-9d4f-39afaf62c55f",
   "metadata": {},
   "outputs": [
    {
     "name": "stdout",
     "output_type": "stream",
     "text": [
      "{'intersection': {1, 3, 4}, 'union': {1, 2, 3, 4, 5, 6}, 'different': {2, 5, 6}}\n"
     ]
    }
   ],
   "source": [
    "def workWithSets(numberList1, numberList2):\n",
    "    set1 = set(numberList1)\n",
    "    set2 = set(numberList2)\n",
    "    \n",
    "    intersection = set1 & set2\n",
    "    union = set1 | set2\n",
    "    different = set1 ^ set2 \n",
    "\n",
    "    return {\n",
    "        \"intersection\": intersection,\n",
    "        \"union\": union,\n",
    "        \"different\": different\n",
    "    }\n",
    "\n",
    "numberList1 = [1, 2, 3, 4]\n",
    "numberList2 = [1, 3, 4, 5, 6]\n",
    "print(workWithSets(numberList1, numberList2))"
   ]
  }
 ],
 "metadata": {
  "kernelspec": {
   "display_name": "Python [conda env:base] *",
   "language": "python",
   "name": "conda-base-py"
  },
  "language_info": {
   "codemirror_mode": {
    "name": "ipython",
    "version": 3
   },
   "file_extension": ".py",
   "mimetype": "text/x-python",
   "name": "python",
   "nbconvert_exporter": "python",
   "pygments_lexer": "ipython3",
   "version": "3.13.5"
  }
 },
 "nbformat": 4,
 "nbformat_minor": 5
}

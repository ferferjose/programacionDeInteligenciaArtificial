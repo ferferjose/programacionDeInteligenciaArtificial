{
 "cells": [
  {
   "cell_type": "code",
   "execution_count": 14,
   "id": "d30a18f5-2359-4052-a7e3-94eb8b525d32",
   "metadata": {},
   "outputs": [
    {
     "name": "stdout",
     "output_type": "stream",
     "text": [
      "{'esto': 1, 'artificial': 1, 'inteligencia': 1, 'bien': 1}\n",
      "{'artificial': 1, 'bien': 1, 'esto': 1, 'inteligencia': 1}\n"
     ]
    }
   ],
   "source": [
    "import string\n",
    "from collections import Counter\n",
    "\n",
    "def wordCounter(wordList, path):\n",
    "    \n",
    "    with open(path, \"r\", encoding=\"utf-8\") as file:\n",
    "        text = file.read().lower()\n",
    "\n",
    "    characters = str.maketrans(\"\", \"\", string.punctuation)\n",
    "\n",
    "    text = text.translate(characters)\n",
    "\n",
    "    wordsText = text.split()\n",
    "    \n",
    "    wordCounter = Counter(wordsText)\n",
    "\n",
    "    result = {word: wordCounter.get(word, 0) for word in wordList}\n",
    "\n",
    "    return dict(sorted(result.items()))\n",
    "\n",
    "wordList = [\"esto\", \"artificial\", \"inteligencia\", \"bien\"]\n",
    "path = \"textoEj2.txt\"\n",
    "print(wordCounter(wordList, path))\n"
   ]
  },
  {
   "cell_type": "code",
   "execution_count": null,
   "id": "795fb411-aa7c-496d-839d-42507a00e843",
   "metadata": {},
   "outputs": [],
   "source": []
  }
 ],
 "metadata": {
  "kernelspec": {
   "display_name": "Python [conda env:base] *",
   "language": "python",
   "name": "conda-base-py"
  },
  "language_info": {
   "codemirror_mode": {
    "name": "ipython",
    "version": 3
   },
   "file_extension": ".py",
   "mimetype": "text/x-python",
   "name": "python",
   "nbconvert_exporter": "python",
   "pygments_lexer": "ipython3",
   "version": "3.13.5"
  }
 },
 "nbformat": 4,
 "nbformat_minor": 5
}
